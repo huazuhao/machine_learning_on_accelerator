{
 "cells": [
  {
   "cell_type": "code",
   "execution_count": 1,
   "metadata": {
    "collapsed": true
   },
   "outputs": [],
   "source": [
    "import pickle"
   ]
  },
  {
   "cell_type": "code",
   "execution_count": 2,
   "metadata": {
    "collapsed": true
   },
   "outputs": [],
   "source": [
    "ground_truth_y_file_name='Y_trainingAll.p'"
   ]
  },
  {
   "cell_type": "code",
   "execution_count": 3,
   "metadata": {
    "collapsed": true
   },
   "outputs": [],
   "source": [
    "ground_truth_y_file=pickle.load(open(ground_truth_y_file_name, \"rb\"))"
   ]
  },
  {
   "cell_type": "code",
   "execution_count": 4,
   "metadata": {
    "collapsed": true
   },
   "outputs": [],
   "source": [
    "ground_truth_x_file_name='X_trainingAll.p'"
   ]
  },
  {
   "cell_type": "code",
   "execution_count": 5,
   "metadata": {
    "collapsed": true
   },
   "outputs": [],
   "source": [
    "ground_truth_x_file=pickle.load(open(ground_truth_x_file_name, \"rb\"))"
   ]
  },
  {
   "cell_type": "code",
   "execution_count": 6,
   "metadata": {
    "collapsed": true
   },
   "outputs": [],
   "source": [
    "import numpy as np\n",
    "\n",
    "features_list = [feature for feature in ground_truth_x_file]\n",
    "targets_list = [feature for feature in ground_truth_y_file]\n",
    "Numsamples = len(ground_truth_x_file[features_list[0]])\n",
    "Numfeatures = len(ground_truth_x_file)\n",
    "Numtargets = len(ground_truth_y_file)\n",
    "\n",
    "new_targets_list=[]\n",
    "\n",
    "x_data = np.zeros((Numsamples, Numfeatures))\n",
    "y_data = np.zeros((Numsamples, Numtargets))\n",
    "\n",
    "for j in range(len(features_list)):\n",
    "    for i in range(0,Numsamples):\n",
    "        x_data[i, j] = ground_truth_x_file[features_list[j]][i][0]\n",
    "\n",
    "for j in range(len(targets_list)):\n",
    "    if targets_list[j]=='x' or targets_list[j]=='px' or targets_list[j]=='y' or targets_list[j]=='py'\\\n",
    "    or targets_list[j]=='qb'or targets_list[j]=='twiss_x_gamma' or targets_list[j]=='twiss_y_gamma':\n",
    "        continue\n",
    "    else:\n",
    "        new_targets_list.append(targets_list[j])\n",
    "        for i in range(0,Numsamples):\n",
    "            y_data[i, j] = ground_truth_y_file[targets_list[j]][i][0]\n",
    "\n",
    "ground_truth_x_file = x_data\n",
    "ground_truth_y_file = y_data"
   ]
  },
  {
   "cell_type": "code",
   "execution_count": 7,
   "metadata": {
    "collapsed": true
   },
   "outputs": [],
   "source": [
    "ground_truth_y_file = ground_truth_y_file[:,~np.all(ground_truth_y_file == 0, axis=0)]"
   ]
  },
  {
   "cell_type": "code",
   "execution_count": 8,
   "metadata": {},
   "outputs": [
    {
     "data": {
      "text/plain": [
       "((86, 6), (86, 5))"
      ]
     },
     "execution_count": 8,
     "metadata": {},
     "output_type": "execute_result"
    }
   ],
   "source": [
    "ground_truth_x_file.shape,ground_truth_y_file.shape"
   ]
  },
  {
   "cell_type": "code",
   "execution_count": 9,
   "metadata": {},
   "outputs": [
    {
     "name": "stdout",
     "output_type": "stream",
     "text": [
      "the max emittance before cleaning data is 1.6689109037483907\n",
      "the min emittance before cleaning data is 0.16479332865961996\n"
     ]
    }
   ],
   "source": [
    "#now, I need to select the data\n",
    "print('the max emittance before cleaning data is',max(ground_truth_y_file[:,0]))\n",
    "print('the min emittance before cleaning data is',min(ground_truth_y_file[:,0]))"
   ]
  },
  {
   "cell_type": "code",
   "execution_count": 10,
   "metadata": {
    "collapsed": true
   },
   "outputs": [],
   "source": [
    "max_allowed_emittance = 1"
   ]
  },
  {
   "cell_type": "code",
   "execution_count": 11,
   "metadata": {
    "collapsed": true
   },
   "outputs": [],
   "source": [
    "targets_list = new_targets_list"
   ]
  },
  {
   "cell_type": "code",
   "execution_count": 12,
   "metadata": {
    "collapsed": true
   },
   "outputs": [],
   "source": [
    "#I can clean up the data a little bit\n",
    "\n",
    "for features_index in range(0,len(targets_list)):\n",
    "    keep_index = []\n",
    "    mean = np.mean(ground_truth_y_file[:, features_index])\n",
    "    std = np.std(ground_truth_y_file[:, features_index])\n",
    "    \n",
    "    for index in range(0, ground_truth_y_file.shape[0]):\n",
    "        if targets_list[features_index]=='max_enxy':\n",
    "            if ground_truth_y_file[index,features_index]<max_allowed_emittance:\n",
    "\n",
    "                keep_index.append(index)\n",
    "            \n",
    "            \n",
    "        else:    \n",
    "            keep_index.append(index)\n",
    "    \n",
    "    \n",
    "    ground_truth_x_file = ground_truth_x_file[keep_index, :]\n",
    "    ground_truth_y_file = ground_truth_y_file[keep_index, :]"
   ]
  },
  {
   "cell_type": "code",
   "execution_count": 13,
   "metadata": {},
   "outputs": [
    {
     "data": {
      "text/plain": [
       "((78, 6), (78, 5))"
      ]
     },
     "execution_count": 13,
     "metadata": {},
     "output_type": "execute_result"
    }
   ],
   "source": [
    "ground_truth_x_file.shape,ground_truth_y_file.shape"
   ]
  },
  {
   "cell_type": "code",
   "execution_count": 14,
   "metadata": {},
   "outputs": [
    {
     "name": "stdout",
     "output_type": "stream",
     "text": [
      "the max emittance before cleaning data is 0.9145046369611117\n",
      "the min emittance before cleaning data is 0.16479332865961996\n"
     ]
    }
   ],
   "source": [
    "print('the max emittance before cleaning data is',max(ground_truth_y_file[:,0]))\n",
    "print('the min emittance before cleaning data is',min(ground_truth_y_file[:,0]))"
   ]
  },
  {
   "cell_type": "code",
   "execution_count": 16,
   "metadata": {
    "collapsed": true
   },
   "outputs": [],
   "source": [
    "ml_x_file_name='gpt_run_callback_seperate_X.p'\n",
    "ml_y_file_name='gpt_run_callback_seperate_Y.p'"
   ]
  },
  {
   "cell_type": "code",
   "execution_count": 17,
   "metadata": {
    "collapsed": true
   },
   "outputs": [],
   "source": [
    "ml_y_file=pickle.load(open(ml_y_file_name, \"rb\"))\n",
    "ml_x_file=pickle.load(open(ml_x_file_name, \"rb\"))"
   ]
  },
  {
   "cell_type": "code",
   "execution_count": 18,
   "metadata": {
    "collapsed": true
   },
   "outputs": [],
   "source": [
    "import numpy as np\n",
    "\n",
    "features_list = [feature for feature in ml_x_file]\n",
    "targets_list = [feature for feature in ml_y_file]\n",
    "Numsamples = len(ml_x_file[features_list[0]])\n",
    "Numfeatures = len(ml_x_file)\n",
    "Numtargets = len(ml_y_file)\n",
    "\n",
    "new_targets_list=[]\n",
    "\n",
    "x_data = np.zeros((Numsamples, Numfeatures))\n",
    "y_data = np.zeros((Numsamples, Numtargets))\n",
    "\n",
    "for j in range(len(features_list)):\n",
    "    for i in range(0,Numsamples):\n",
    "        x_data[i, j] = ml_x_file[features_list[j]][i][0]\n",
    "\n",
    "for j in range(len(targets_list)):\n",
    "    if targets_list[j]=='x' or targets_list[j]=='px' or targets_list[j]=='y' or targets_list[j]=='py'\\\n",
    "    or targets_list[j]=='qb'or targets_list[j]=='twiss_x_gamma' or targets_list[j]=='twiss_y_gamma':\n",
    "        continue\n",
    "    else:\n",
    "        new_targets_list.append(targets_list[j])\n",
    "        for i in range(0,Numsamples):\n",
    "            y_data[i, j] = ml_y_file[targets_list[j]][i][0]\n",
    "\n",
    "ml_x_file = x_data\n",
    "ml_y_file = y_data"
   ]
  },
  {
   "cell_type": "code",
   "execution_count": 19,
   "metadata": {
    "collapsed": true
   },
   "outputs": [],
   "source": [
    "ml_y_file = ml_y_file[:,~np.all(ml_y_file == 0, axis=0)]"
   ]
  },
  {
   "cell_type": "code",
   "execution_count": 20,
   "metadata": {},
   "outputs": [
    {
     "data": {
      "text/plain": [
       "((78, 6), (78, 5))"
      ]
     },
     "execution_count": 20,
     "metadata": {},
     "output_type": "execute_result"
    }
   ],
   "source": [
    "ml_x_file.shape,ml_y_file.shape"
   ]
  },
  {
   "cell_type": "code",
   "execution_count": 21,
   "metadata": {
    "collapsed": true
   },
   "outputs": [],
   "source": [
    "check_index=20"
   ]
  },
  {
   "cell_type": "code",
   "execution_count": 22,
   "metadata": {},
   "outputs": [
    {
     "data": {
      "text/plain": [
       "array([  0.24796261, -30.03829681,  43.88342675, -13.61750744,\n",
       "        98.9086375 ])"
      ]
     },
     "execution_count": 22,
     "metadata": {},
     "output_type": "execute_result"
    }
   ],
   "source": [
    "ground_truth_y_file[check_index,:]"
   ]
  },
  {
   "cell_type": "code",
   "execution_count": 23,
   "metadata": {},
   "outputs": [
    {
     "data": {
      "text/plain": [
       "array([  0.54009966, -32.67178887,  45.60494397, -14.07458241,\n",
       "       100.07502138])"
      ]
     },
     "execution_count": 23,
     "metadata": {},
     "output_type": "execute_result"
    }
   ],
   "source": [
    "ml_y_file[check_index,:]"
   ]
  },
  {
   "cell_type": "code",
   "execution_count": 24,
   "metadata": {},
   "outputs": [
    {
     "data": {
      "image/png": "[encoded data removed]",
      "text/plain": [
       "<matplotlib.figure.Figure at 0x10aad7080>"
      ]
     },
     "metadata": {},
     "output_type": "display_data"
    }
   ],
   "source": [
    "import matplotlib.pyplot as plt\n",
    "\n",
    "x_axis=[]\n",
    "for index in range(0,ground_truth_y_file.shape[0]):\n",
    "    x_axis.append(index)\n",
    "\n",
    "sort_index=np.argsort(ground_truth_y_file[:,1])\n",
    "ground_truth_y_file=ground_truth_y_file[sort_index,:]\n",
    "ml_y_file=ml_y_file[sort_index,:]\n",
    " \n",
    "\n",
    "plt.scatter(x_axis,ground_truth_y_file[:,1],c='r')\n",
    "plt.scatter(x_axis,ml_y_file[:,1],c='b')\n",
    "plt.show()"
   ]
  },
  {
   "cell_type": "code",
   "execution_count": 25,
   "metadata": {},
   "outputs": [
    {
     "data": {
      "image/png": "[encoded data removed]",
      "text/plain": [
       "<matplotlib.figure.Figure at 0x114cd2630>"
      ]
     },
     "metadata": {},
     "output_type": "display_data"
    }
   ],
   "source": [
    "x_axis=[]\n",
    "for index in range(0,ground_truth_y_file.shape[0]):\n",
    "    x_axis.append(index)\n",
    "\n",
    "sort_index=np.argsort(ground_truth_y_file[:,2])\n",
    "ground_truth_y_file=ground_truth_y_file[sort_index,:]\n",
    "ml_y_file=ml_y_file[sort_index,:]\n",
    " \n",
    "\n",
    "plt.scatter(x_axis,ground_truth_y_file[:,2],c='r')\n",
    "plt.scatter(x_axis,ml_y_file[:,2],c='b')\n",
    "plt.show()"
   ]
  },
  {
   "cell_type": "code",
   "execution_count": 27,
   "metadata": {},
   "outputs": [
    {
     "data": {
      "image/png": "[encoded data removed]",
      "text/plain": [
       "<matplotlib.figure.Figure at 0x114e9c2b0>"
      ]
     },
     "metadata": {},
     "output_type": "display_data"
    }
   ],
   "source": [
    "x_axis=[]\n",
    "for index in range(0,ground_truth_y_file.shape[0]):\n",
    "    x_axis.append(index)\n",
    "\n",
    "sort_index=np.argsort(ground_truth_y_file[:,3])\n",
    "ground_truth_y_file=ground_truth_y_file[sort_index,:]\n",
    "ml_y_file=ml_y_file[sort_index,:]\n",
    " \n",
    "\n",
    "plt.scatter(x_axis,ground_truth_y_file[:,3],c='r')\n",
    "plt.scatter(x_axis,ml_y_file[:,3],c='b')\n",
    "plt.show()"
   ]
  },
  {
   "cell_type": "code",
   "execution_count": 28,
   "metadata": {},
   "outputs": [
    {
     "data": {
      "image/png": "[encoded data removed]",
      "text/plain": [
       "<matplotlib.figure.Figure at 0x114ed29b0>"
      ]
     },
     "metadata": {},
     "output_type": "display_data"
    }
   ],
   "source": [
    "x_axis=[]\n",
    "for index in range(0,ground_truth_y_file.shape[0]):\n",
    "    x_axis.append(index)\n",
    "\n",
    "sort_index=np.argsort(ground_truth_y_file[:,4])\n",
    "ground_truth_y_file=ground_truth_y_file[sort_index,:]\n",
    "ml_y_file=ml_y_file[sort_index,:]\n",
    " \n",
    "\n",
    "plt.scatter(x_axis,ground_truth_y_file[:,4],c='r')\n",
    "plt.scatter(x_axis,ml_y_file[:,4],c='b')\n",
    "plt.show()"
   ]
  },
  {
   "cell_type": "code",
   "execution_count": null,
   "metadata": {
    "collapsed": true
   },
   "outputs": [],
   "source": []
  }
 ],
 "metadata": {
  "kernelspec": {
   "display_name": "Python 3",
   "language": "python",
   "name": "python3"
  },
  "language_info": {
   "codemirror_mode": {
    "name": "ipython",
    "version": 3
   },
   "file_extension": ".py",
   "mimetype": "text/x-python",
   "name": "python",
   "nbconvert_exporter": "python",
   "pygments_lexer": "ipython3",
   "version": "3.6.7"
  }
 },
 "nbformat": 4,
 "nbformat_minor": 2
}
