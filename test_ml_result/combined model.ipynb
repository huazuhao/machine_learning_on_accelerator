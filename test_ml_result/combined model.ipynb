{
 "cells": [
  {
   "cell_type": "code",
   "execution_count": 1,
   "metadata": {
    "collapsed": true,
    "jupyter": {
     "outputs_hidden": true
    }
   },
   "outputs": [],
   "source": [
    "import pickle"
   ]
  },
  {
   "cell_type": "markdown",
   "metadata": {},
   "source": [
    "import data"
   ]
  },
  {
   "cell_type": "code",
   "execution_count": 2,
   "metadata": {
    "collapsed": true,
    "jupyter": {
     "outputs_hidden": true
    }
   },
   "outputs": [],
   "source": [
    "ground_truth_y_file_name='Y_trainingAll.p'"
   ]
  },
  {
   "cell_type": "code",
   "execution_count": 3,
   "metadata": {
    "collapsed": true,
    "jupyter": {
     "outputs_hidden": true
    }
   },
   "outputs": [],
   "source": [
    "ground_truth_y_file=pickle.load(open(ground_truth_y_file_name, \"rb\"))"
   ]
  },
  {
   "cell_type": "code",
   "execution_count": 4,
   "metadata": {
    "collapsed": true,
    "jupyter": {
     "outputs_hidden": true
    }
   },
   "outputs": [],
   "source": [
    "ground_truth_x_file_name='X_trainingAll.p'"
   ]
  },
  {
   "cell_type": "code",
   "execution_count": 5,
   "metadata": {
    "collapsed": true,
    "jupyter": {
     "outputs_hidden": true
    }
   },
   "outputs": [],
   "source": [
    "ground_truth_x_file=pickle.load(open(ground_truth_x_file_name, \"rb\"))"
   ]
  },
  {
   "cell_type": "code",
   "execution_count": 6,
   "metadata": {
    "collapsed": true,
    "jupyter": {
     "outputs_hidden": true
    }
   },
   "outputs": [],
   "source": [
    "import numpy as np\n",
    "\n",
    "features_list = [feature for feature in ground_truth_x_file]\n",
    "targets_list = [feature for feature in ground_truth_y_file]\n",
    "Numsamples = len(ground_truth_x_file[features_list[0]])\n",
    "Numfeatures = len(ground_truth_x_file)\n",
    "Numtargets = len(ground_truth_y_file)\n",
    "\n",
    "new_targets_list=[]\n",
    "\n",
    "x_data = np.zeros((Numsamples, Numfeatures))\n",
    "y_data = np.zeros((Numsamples, Numtargets))\n",
    "\n",
    "for j in range(len(features_list)):\n",
    "    for i in range(0,Numsamples):\n",
    "        x_data[i, j] = ground_truth_x_file[features_list[j]][i][0]\n",
    "\n",
    "for j in range(len(targets_list)):\n",
    "    if targets_list[j]=='x' or targets_list[j]=='px' or targets_list[j]=='y' or targets_list[j]=='py'\\\n",
    "    or targets_list[j]=='qb'or targets_list[j]=='twiss_x_gamma' or targets_list[j]=='twiss_y_gamma':\n",
    "        continue\n",
    "    else:\n",
    "        new_targets_list.append(targets_list[j])\n",
    "        for i in range(0,Numsamples):\n",
    "            y_data[i, j] = ground_truth_y_file[targets_list[j]][i][0]\n",
    "\n",
    "ground_truth_x_file = x_data\n",
    "ground_truth_y_file = y_data"
   ]
  },
  {
   "cell_type": "code",
   "execution_count": 7,
   "metadata": {
    "collapsed": true,
    "jupyter": {
     "outputs_hidden": true
    }
   },
   "outputs": [],
   "source": [
    "ground_truth_y_file = ground_truth_y_file[:,~np.all(ground_truth_y_file == 0, axis=0)]"
   ]
  },
  {
   "cell_type": "code",
   "execution_count": 8,
   "metadata": {},
   "outputs": [
    {
     "data": {
      "text/plain": [
       "((86, 6), (86, 5))"
      ]
     },
     "execution_count": 8,
     "metadata": {},
     "output_type": "execute_result"
    }
   ],
   "source": [
    "ground_truth_x_file.shape,ground_truth_y_file.shape"
   ]
  },
  {
   "cell_type": "markdown",
   "metadata": {},
   "source": [
    "Now, I need to clean the data a little bit. \\\n",
    "I don't want emittance to be too high"
   ]
  },
  {
   "cell_type": "code",
   "execution_count": 9,
   "metadata": {},
   "outputs": [
    {
     "name": "stdout",
     "output_type": "stream",
     "text": [
      "the max emittance before cleaning data is 1.6689109037483907\n",
      "the min emittance before cleaning data is 0.16479332865961996\n"
     ]
    }
   ],
   "source": [
    "#now, I need to select the data\n",
    "print('the max emittance before cleaning data is',max(ground_truth_y_file[:,0]))\n",
    "print('the min emittance before cleaning data is',min(ground_truth_y_file[:,0]))"
   ]
  },
  {
   "cell_type": "code",
   "execution_count": 10,
   "metadata": {
    "collapsed": true,
    "jupyter": {
     "outputs_hidden": true
    }
   },
   "outputs": [],
   "source": [
    "max_allowed_emittance = 1"
   ]
  },
  {
   "cell_type": "code",
   "execution_count": 11,
   "metadata": {
    "collapsed": true,
    "jupyter": {
     "outputs_hidden": true
    }
   },
   "outputs": [],
   "source": [
    "targets_list = new_targets_list"
   ]
  },
  {
   "cell_type": "code",
   "execution_count": 12,
   "metadata": {
    "collapsed": true,
    "jupyter": {
     "outputs_hidden": true
    }
   },
   "outputs": [],
   "source": [
    "#I can clean up the data a little bit\n",
    "\n",
    "for features_index in range(0,len(targets_list)):\n",
    "    keep_index = []\n",
    "    mean = np.mean(ground_truth_y_file[:, features_index])\n",
    "    std = np.std(ground_truth_y_file[:, features_index])\n",
    "    \n",
    "    for index in range(0, ground_truth_y_file.shape[0]):\n",
    "        if targets_list[features_index]=='max_enxy':\n",
    "            if ground_truth_y_file[index,features_index]<max_allowed_emittance:\n",
    "\n",
    "                keep_index.append(index)\n",
    "            \n",
    "            \n",
    "        else:    \n",
    "            keep_index.append(index)\n",
    "    \n",
    "    \n",
    "    ground_truth_x_file = ground_truth_x_file[keep_index, :]\n",
    "    ground_truth_y_file = ground_truth_y_file[keep_index, :]"
   ]
  },
  {
   "cell_type": "code",
   "execution_count": 13,
   "metadata": {},
   "outputs": [
    {
     "data": {
      "text/plain": [
       "((78, 6), (78, 5))"
      ]
     },
     "execution_count": 13,
     "metadata": {},
     "output_type": "execute_result"
    }
   ],
   "source": [
    "ground_truth_x_file.shape,ground_truth_y_file.shape"
   ]
  },
  {
   "cell_type": "code",
   "execution_count": 14,
   "metadata": {},
   "outputs": [
    {
     "name": "stdout",
     "output_type": "stream",
     "text": [
      "the max emittance before cleaning data is 0.9145046369611117\n",
      "the min emittance before cleaning data is 0.16479332865961996\n"
     ]
    }
   ],
   "source": [
    "print('the max emittance before cleaning data is',max(ground_truth_y_file[:,0]))\n",
    "print('the min emittance before cleaning data is',min(ground_truth_y_file[:,0]))"
   ]
  },
  {
   "cell_type": "code",
   "execution_count": 15,
   "metadata": {
    "collapsed": true,
    "jupyter": {
     "outputs_hidden": true
    }
   },
   "outputs": [],
   "source": [
    "ml_x_file_name='gpt_run_callback_combine_X.p'\n",
    "ml_y_file_name='gpt_run_callback_combine_Y.p'"
   ]
  },
  {
   "cell_type": "code",
   "execution_count": 16,
   "metadata": {
    "collapsed": true,
    "jupyter": {
     "outputs_hidden": true
    }
   },
   "outputs": [],
   "source": [
    "ml_y_file=pickle.load(open(ml_y_file_name, \"rb\"))\n",
    "ml_x_file=pickle.load(open(ml_x_file_name, \"rb\"))"
   ]
  },
  {
   "cell_type": "markdown",
   "metadata": {},
   "source": [
    "load data from the machine learning result"
   ]
  },
  {
   "cell_type": "code",
   "execution_count": 17,
   "metadata": {
    "collapsed": true,
    "jupyter": {
     "outputs_hidden": true
    }
   },
   "outputs": [],
   "source": [
    "import numpy as np\n",
    "\n",
    "features_list = [feature for feature in ml_x_file]\n",
    "targets_list = [feature for feature in ml_y_file]\n",
    "Numsamples = len(ml_x_file[features_list[0]])\n",
    "Numfeatures = len(ml_x_file)\n",
    "Numtargets = len(ml_y_file)\n",
    "\n",
    "new_targets_list=[]\n",
    "\n",
    "x_data = np.zeros((Numsamples, Numfeatures))\n",
    "y_data = np.zeros((Numsamples, Numtargets))\n",
    "\n",
    "for j in range(len(features_list)):\n",
    "    for i in range(0,Numsamples):\n",
    "        x_data[i, j] = ml_x_file[features_list[j]][i][0]\n",
    "\n",
    "for j in range(len(targets_list)):\n",
    "    if targets_list[j]=='x' or targets_list[j]=='px' or targets_list[j]=='y' or targets_list[j]=='py'\\\n",
    "    or targets_list[j]=='qb'or targets_list[j]=='twiss_x_gamma' or targets_list[j]=='twiss_y_gamma':\n",
    "        continue\n",
    "    else:\n",
    "        new_targets_list.append(targets_list[j])\n",
    "        for i in range(0,Numsamples):\n",
    "            y_data[i, j] = ml_y_file[targets_list[j]][i][0]\n",
    "\n",
    "ml_x_file = x_data\n",
    "ml_y_file = y_data"
   ]
  },
  {
   "cell_type": "code",
   "execution_count": 18,
   "metadata": {
    "collapsed": true,
    "jupyter": {
     "outputs_hidden": true
    }
   },
   "outputs": [],
   "source": [
    "ml_y_file = ml_y_file[:,~np.all(ml_y_file == 0, axis=0)]"
   ]
  },
  {
   "cell_type": "code",
   "execution_count": 19,
   "metadata": {},
   "outputs": [
    {
     "data": {
      "text/plain": [
       "((78, 6), (78, 5))"
      ]
     },
     "execution_count": 19,
     "metadata": {},
     "output_type": "execute_result"
    }
   ],
   "source": [
    "ml_x_file.shape,ml_y_file.shape"
   ]
  },
  {
   "cell_type": "code",
   "execution_count": 21,
   "metadata": {
    "collapsed": true,
    "jupyter": {
     "outputs_hidden": true
    }
   },
   "outputs": [],
   "source": [
    "check_index=20"
   ]
  },
  {
   "cell_type": "code",
   "execution_count": 22,
   "metadata": {},
   "outputs": [
    {
     "data": {
      "text/plain": [
       "array([  0.24796261, -30.03829681,  43.88342675, -13.61750744,\n",
       "        98.9086375 ])"
      ]
     },
     "execution_count": 22,
     "metadata": {},
     "output_type": "execute_result"
    }
   ],
   "source": [
    "ground_truth_y_file[check_index,:]"
   ]
  },
  {
   "cell_type": "code",
   "execution_count": 23,
   "metadata": {},
   "outputs": [
    {
     "data": {
      "text/plain": [
       "array([  0.54642578, -32.69736055,  46.90046558, -14.86595943,\n",
       "       105.69180114])"
      ]
     },
     "execution_count": 23,
     "metadata": {},
     "output_type": "execute_result"
    }
   ],
   "source": [
    "ml_y_file[check_index,:]"
   ]
  },
  {
   "cell_type": "markdown",
   "metadata": {},
   "source": [
    "# Compare the Result\n",
    "We want to compare the result based on the neural networds and the result from plain GPT run. "
   ]
  },
  {
   "cell_type": "code",
   "execution_count": 33,
   "metadata": {},
   "outputs": [
    {
     "data": {
      "image/png": "[encoded data removed]",
      "text/plain": [
       "<matplotlib.figure.Figure at 0x1370980f0>"
      ]
     },
     "metadata": {},
     "output_type": "display_data"
    }
   ],
   "source": [
    "import matplotlib.pyplot as plt\n",
    "\n",
    "x_axis=[]\n",
    "for index in range(0,ground_truth_y_file.shape[0]):\n",
    "    x_axis.append(index)\n",
    "\n",
    "sort_index=np.argsort(ground_truth_y_file[:,1])\n",
    "ground_truth_y_file=ground_truth_y_file[sort_index,:]\n",
    "ml_y_file=ml_y_file[sort_index,:]\n",
    " \n",
    "plt.scatter(x_axis,ml_y_file[:,1],c='b',label='from minimization')\n",
    "plt.scatter(x_axis,ground_truth_y_file[:,1],c='r',label='operator input')\n",
    "\n",
    "plt.ylabel('twiss_x_alpha')\n",
    "plt.xlabel('testing data index')\n",
    "plt.legend(loc='upper left')\n",
    "\n",
    "plt.show()"
   ]
  },
  {
   "cell_type": "markdown",
   "metadata": {},
   "source": [
    "Measure the percent difference between the ground truth, which is done by plain GPT run, \\\n",
    "and the result from neural networks. "
   ]
  },
  {
   "cell_type": "code",
   "execution_count": 40,
   "metadata": {},
   "outputs": [
    {
     "data": {
      "text/plain": [
       "0.24850012480314654"
      ]
     },
     "execution_count": 40,
     "metadata": {},
     "output_type": "execute_result"
    }
   ],
   "source": [
    "diff=ground_truth_y_file-ml_y_file\n",
    "diff=diff[:,0]\n",
    "diff=np.abs(diff)\n",
    "diff=sum(diff)\n",
    "diff=diff/ground_truth_y_file.shape[0]\n",
    "diff"
   ]
  },
  {
   "cell_type": "code",
   "execution_count": 35,
   "metadata": {},
   "outputs": [
    {
     "data": {
      "image/png": "[encoded data removed]",
      "text/plain": [
       "<matplotlib.figure.Figure at 0x137186a58>"
      ]
     },
     "metadata": {},
     "output_type": "display_data"
    }
   ],
   "source": [
    "x_axis=[]\n",
    "for index in range(0,ground_truth_y_file.shape[0]):\n",
    "    x_axis.append(index)\n",
    "\n",
    "sort_index=np.argsort(ground_truth_y_file[:,2])\n",
    "ground_truth_y_file=ground_truth_y_file[sort_index,:]\n",
    "ml_y_file=ml_y_file[sort_index,:]\n",
    " \n",
    "plt.scatter(x_axis,ml_y_file[:,2],c='b',label='from minimization')\n",
    "plt.scatter(x_axis,ground_truth_y_file[:,2],c='r',label='operator input')\n",
    "\n",
    "\n",
    "plt.ylabel('twiss_x_beta')\n",
    "plt.xlabel('testing data index')\n",
    "plt.legend(loc='upper left')\n",
    "\n",
    "plt.show()"
   ]
  },
  {
   "cell_type": "code",
   "execution_count": 41,
   "metadata": {},
   "outputs": [
    {
     "data": {
      "text/plain": [
       "0.6134752318095335"
      ]
     },
     "execution_count": 41,
     "metadata": {},
     "output_type": "execute_result"
    }
   ],
   "source": [
    "diff=ground_truth_y_file-ml_y_file\n",
    "diff=diff[:,1]\n",
    "diff=np.abs(diff)\n",
    "diff=sum(diff)\n",
    "diff=diff/ground_truth_y_file.shape[0]\n",
    "diff"
   ]
  },
  {
   "cell_type": "code",
   "execution_count": 39,
   "metadata": {},
   "outputs": [
    {
     "data": {
      "image/png": "[encoded data removed]",
      "text/plain": [
       "<matplotlib.figure.Figure at 0x13730f400>"
      ]
     },
     "metadata": {},
     "output_type": "display_data"
    }
   ],
   "source": [
    "x_axis=[]\n",
    "for index in range(0,ground_truth_y_file.shape[0]):\n",
    "    x_axis.append(index)\n",
    "\n",
    "sort_index=np.argsort(ground_truth_y_file[:,3])\n",
    "ground_truth_y_file=ground_truth_y_file[sort_index,:]\n",
    "ml_y_file=ml_y_file[sort_index,:]\n",
    " \n",
    "    \n",
    "plt.scatter(x_axis,ml_y_file[:,3],c='b',label='from minimization')\n",
    "plt.scatter(x_axis,ground_truth_y_file[:,3],c='r',label='operator input')\n",
    "\n",
    "\n",
    "plt.ylabel('twiss_y_alpha')\n",
    "plt.xlabel('testing data index')\n",
    "plt.legend(loc='upper left')\n",
    "\n",
    "\n",
    "plt.show()"
   ]
  },
  {
   "cell_type": "code",
   "execution_count": 42,
   "metadata": {},
   "outputs": [
    {
     "data": {
      "text/plain": [
       "0.7267340865697484"
      ]
     },
     "execution_count": 42,
     "metadata": {},
     "output_type": "execute_result"
    }
   ],
   "source": [
    "diff=ground_truth_y_file-ml_y_file\n",
    "diff=diff[:,2]\n",
    "diff=np.abs(diff)\n",
    "diff=sum(diff)\n",
    "diff=diff/ground_truth_y_file.shape[0]\n",
    "diff"
   ]
  },
  {
   "cell_type": "code",
   "execution_count": 38,
   "metadata": {},
   "outputs": [
    {
     "data": {
      "image/png": "[encoded data removed]",
      "text/plain": [
       "<matplotlib.figure.Figure at 0x13749fba8>"
      ]
     },
     "metadata": {},
     "output_type": "display_data"
    }
   ],
   "source": [
    "x_axis=[]\n",
    "for index in range(0,ground_truth_y_file.shape[0]):\n",
    "    x_axis.append(index)\n",
    "\n",
    "sort_index=np.argsort(ground_truth_y_file[:,4])\n",
    "ground_truth_y_file=ground_truth_y_file[sort_index,:]\n",
    "ml_y_file=ml_y_file[sort_index,:]\n",
    " \n",
    "plt.scatter(x_axis,ml_y_file[:,4],c='b',label='from minimization')\n",
    "plt.scatter(x_axis,ground_truth_y_file[:,4],c='r',label='operator input')\n",
    "\n",
    "\n",
    "plt.ylabel('twiss_y_beta')\n",
    "plt.xlabel('testing data index')\n",
    "plt.legend(loc='upper left')\n",
    "\n",
    "\n",
    "plt.show()"
   ]
  },
  {
   "cell_type": "code",
   "execution_count": 44,
   "metadata": {},
   "outputs": [
    {
     "data": {
      "text/plain": [
       "0.6688170921633018"
      ]
     },
     "execution_count": 44,
     "metadata": {},
     "output_type": "execute_result"
    }
   ],
   "source": [
    "diff=ground_truth_y_file-ml_y_file\n",
    "diff=diff[:,3]\n",
    "diff=np.abs(diff)\n",
    "diff=sum(diff)\n",
    "diff=diff/ground_truth_y_file.shape[0]\n",
    "diff"
   ]
  },
  {
   "cell_type": "code",
   "execution_count": 29,
   "metadata": {},
   "outputs": [
    {
     "name": "stderr",
     "output_type": "stream",
     "text": [
      "/Users/zuhaohua/anaconda3/lib/python3.6/site-packages/h5py/__init__.py:34: FutureWarning: Conversion of the second argument of issubdtype from `float` to `np.floating` is deprecated. In future, it will be treated as `np.float64 == np.dtype(float).type`.\n",
      "  from ._conv import register_converters as _register_converters\n",
      "Using TensorFlow backend.\n"
     ]
    }
   ],
   "source": [
    "import keras\n",
    "from keras.models import Sequential\n",
    "from keras.layers import Dense, Dropout, Activation\n",
    "from keras.models import load_model\n",
    "from keras.regularizers import l2"
   ]
  },
  {
   "cell_type": "code",
   "execution_count": 30,
   "metadata": {
    "collapsed": true,
    "jupyter": {
     "outputs_hidden": true
    }
   },
   "outputs": [],
   "source": [
    "model_1= Sequential()\n",
    "model_1.add(Dense(64, activation='tanh', input_dim=len(features_list),activity_regularizer=l2(0.00)))\n",
    "model_1.add(Dense(64, activation='tanh',activity_regularizer=l2(0.00)))\n",
    "model_1.add(Dense(32, activation='tanh',activity_regularizer=l2(0.00)))\n",
    "model_1.add(Dense(32, activation='tanh',activity_regularizer=l2(0.00)))\n",
    "model_1.add(Dense(16, activation='tanh',activity_regularizer=l2(0.00)))\n",
    "model_1.add(Dense(16, activation='tanh',activity_regularizer=l2(0.00)))\n",
    "model_1.add(Dense(4, activation='linear',activity_regularizer=l2(0.00)))\n",
    "model_1.compile(loss='mse',\n",
    "                optimizer='adam',\n",
    "                metrics=['mean_absolute_error', 'mean_squared_error'])"
   ]
  },
  {
   "cell_type": "code",
   "execution_count": 31,
   "metadata": {},
   "outputs": [
    {
     "name": "stdout",
     "output_type": "stream",
     "text": [
      "_________________________________________________________________\n",
      "Layer (type)                 Output Shape              Param #   \n",
      "=================================================================\n",
      "dense_1 (Dense)              (None, 64)                448       \n",
      "_________________________________________________________________\n",
      "dense_2 (Dense)              (None, 64)                4160      \n",
      "_________________________________________________________________\n",
      "dense_3 (Dense)              (None, 32)                2080      \n",
      "_________________________________________________________________\n",
      "dense_4 (Dense)              (None, 32)                1056      \n",
      "_________________________________________________________________\n",
      "dense_5 (Dense)              (None, 16)                528       \n",
      "_________________________________________________________________\n",
      "dense_6 (Dense)              (None, 16)                272       \n",
      "_________________________________________________________________\n",
      "dense_7 (Dense)              (None, 4)                 68        \n",
      "=================================================================\n",
      "Total params: 8,612\n",
      "Trainable params: 8,612\n",
      "Non-trainable params: 0\n",
      "_________________________________________________________________\n"
     ]
    }
   ],
   "source": [
    "model_1.summary()"
   ]
  },
  {
   "cell_type": "code",
   "execution_count": null,
   "metadata": {
    "collapsed": true,
    "jupyter": {
     "outputs_hidden": true
    }
   },
   "outputs": [],
   "source": []
  }
 ],
 "metadata": {
  "kernelspec": {
   "display_name": "Python 3",
   "language": "python",
   "name": "python3"
  },
  "language_info": {
   "codemirror_mode": {
    "name": "ipython",
    "version": 3
   },
   "file_extension": ".py",
   "mimetype": "text/x-python",
   "name": "python",
   "nbconvert_exporter": "python",
   "pygments_lexer": "ipython3",
   "version": "3.7.4"
  }
 },
 "nbformat": 4,
 "nbformat_minor": 4
}
